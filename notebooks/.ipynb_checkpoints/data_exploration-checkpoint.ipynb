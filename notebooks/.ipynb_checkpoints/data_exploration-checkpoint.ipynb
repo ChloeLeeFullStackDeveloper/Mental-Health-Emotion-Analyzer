{
 "cells": [
  {
   "cell_type": "code",
   "execution_count": null,
   "id": "943fd6e9",
   "metadata": {},
   "outputs": [],
   "source": [
    "from datasets import load_dataset\n",
    "dataset = load_dataset(\"go_emotions\")\n"
   ]
  },
  {
   "cell_type": "code",
   "execution_count": null,
   "id": "792454ab",
   "metadata": {},
   "outputs": [],
   "source": [
    "import pandas as pd\n",
    "\n",
    "# Convert to DataFrame\n",
    "df = pd.DataFrame(dataset['train'])\n",
    "df.head()\n"
   ]
  },
  {
   "cell_type": "code",
   "execution_count": null,
   "id": "1de7eab0",
   "metadata": {},
   "outputs": [],
   "source": [
    "# Map label indices to label names\n",
    "label_names = dataset['train'].features['labels'].feature.names\n",
    "\n",
    "# Add decoded labels to DataFrame\n",
    "df['decoded_labels'] = df['labels'].apply(lambda x: [label_names[i] for i in x])\n",
    "df[['text', 'decoded_labels']].head()\n"
   ]
  },
  {
   "cell_type": "code",
   "execution_count": null,
   "id": "6aeb9253",
   "metadata": {},
   "outputs": [],
   "source": [
    "from collections import Counter\n",
    "import matplotlib.pyplot as plt\n",
    "\n",
    "# Flatten all labels\n",
    "all_labels = [label for sublist in df['labels'] for label in sublist]\n",
    "label_counts = Counter(all_labels)\n",
    "\n",
    "# Convert to name-based counts\n",
    "label_counts_named = {label_names[k]: v for k, v in label_counts.items()}\n",
    "\n",
    "# Plot\n",
    "plt.figure(figsize=(12, 6))\n",
    "plt.bar(label_counts_named.keys(), label_counts_named.values())\n",
    "plt.xticks(rotation=45)\n",
    "plt.title(\"Emotion Label Frequencies\")\n",
    "plt.xlabel(\"Emotion\")\n",
    "plt.ylabel(\"Count\")\n",
    "plt.grid(axis='y')\n",
    "plt.tight_layout()\n",
    "plt.show()\n"
   ]
  },
  {
   "cell_type": "markdown",
   "id": "4489bcc0",
   "metadata": {},
   "source": [
    "## 🧠 Step 1: Vectorize the Text Using TF-IDF\n",
    "We'll convert the journal text entries into numeric vectors using `TfidfVectorizer`, which transforms text into a matrix of term importance."
   ]
  },
  {
   "cell_type": "code",
   "execution_count": null,
   "id": "9d5b16d9",
   "metadata": {},
   "outputs": [],
   "source": [
    "from sklearn.feature_extraction.text import TfidfVectorizer\n",
    "\n",
    "# Initialize vectorizer\n",
    "vectorizer = TfidfVectorizer(max_features=5000)\n",
    "\n",
    "# Transform text data into TF-IDF features\n",
    "X = vectorizer.fit_transform(df['text'])\n",
    "\n",
    "# Check shape\n",
    "print(\"TF-IDF matrix shape:\", X.shape)\n"
   ]
  },
  {
   "cell_type": "markdown",
   "id": "35b89100",
   "metadata": {},
   "source": [
    "## 🎯 Step 2: Prepare Multi-Label Targets (Y)\n",
    "We’ll transform the `labels` list into a binary matrix for multi-label classification."
   ]
  },
  {
   "cell_type": "code",
   "execution_count": null,
   "id": "501bebe6",
   "metadata": {},
   "outputs": [],
   "source": [
    "from sklearn.preprocessing import MultiLabelBinarizer\n",
    "\n",
    "mlb = MultiLabelBinarizer()\n",
    "Y = mlb.fit_transform(df['decoded_labels'])\n",
    "\n",
    "# Check shape and preview\n",
    "print(\"Target shape:\", Y.shape)\n",
    "pd.DataFrame(Y, columns=mlb.classes_).head()\n"
   ]
  },
  {
   "cell_type": "markdown",
   "id": "4d33171e",
   "metadata": {},
   "source": [
    "## 🔍 Step 3: Train a Logistic Regression Model\n",
    "We'll train a simple multi-label logistic regression using `OneVsRestClassifier`."
   ]
  },
  {
   "cell_type": "code",
   "execution_count": null,
   "id": "e26328d9",
   "metadata": {},
   "outputs": [],
   "source": [
    "from sklearn.linear_model import LogisticRegression\n",
    "from sklearn.multiclass import OneVsRestClassifier\n",
    "from sklearn.model_selection import train_test_split\n",
    "from sklearn.metrics import classification_report\n",
    "\n",
    "# Train-test split\n",
    "X_train, X_test, Y_train, Y_test = train_test_split(X, Y, test_size=0.2, random_state=42)\n",
    "\n",
    "# Train model\n",
    "model = OneVsRestClassifier(LogisticRegression(max_iter=1000))\n",
    "model.fit(X_train, Y_train)\n",
    "\n",
    "# Predict\n",
    "Y_pred = model.predict(X_test)\n",
    "\n",
    "# Report\n",
    "print(classification_report(Y_test, Y_pred, target_names=mlb.classes_))\n"
   ]
  },
  {
   "cell_type": "markdown",
   "id": "f50e8f59",
   "metadata": {},
   "source": [
    "## 💾 Step 4: Save the Trained Model and Label Encoder\n",
    "We'll save the trained model and the MultiLabelBinarizer using `joblib` so we can reuse them in our API."
   ]
  },
  {
   "cell_type": "code",
   "execution_count": 1,
   "id": "a33f25e7",
   "metadata": {},
   "outputs": [
    {
     "ename": "NameError",
     "evalue": "name 'model' is not defined",
     "output_type": "error",
     "traceback": [
      "\u001b[31m---------------------------------------------------------------------------\u001b[39m",
      "\u001b[31mNameError\u001b[39m                                 Traceback (most recent call last)",
      "\u001b[36mCell\u001b[39m\u001b[36m \u001b[39m\u001b[32mIn[1]\u001b[39m\u001b[32m, line 8\u001b[39m\n\u001b[32m      5\u001b[39m os.makedirs(\u001b[33m\"\u001b[39m\u001b[33m../models\u001b[39m\u001b[33m\"\u001b[39m, exist_ok=\u001b[38;5;28;01mTrue\u001b[39;00m)\n\u001b[32m      7\u001b[39m \u001b[38;5;66;03m# Save model\u001b[39;00m\n\u001b[32m----> \u001b[39m\u001b[32m8\u001b[39m joblib.dump(\u001b[43mmodel\u001b[49m, \u001b[33m\"\u001b[39m\u001b[33m../models/logistic_model.pkl\u001b[39m\u001b[33m\"\u001b[39m)\n\u001b[32m     10\u001b[39m \u001b[38;5;66;03m# Save TF-IDF vectorizer\u001b[39;00m\n\u001b[32m     11\u001b[39m joblib.dump(vectorizer, \u001b[33m\"\u001b[39m\u001b[33m../models/tfidf_vectorizer.pkl\u001b[39m\u001b[33m\"\u001b[39m)\n",
      "\u001b[31mNameError\u001b[39m: name 'model' is not defined"
     ]
    }
   ],
   "source": [
    "import joblib\n",
    "import os\n",
    "\n",
    "# Create models directory if it doesn't exist\n",
    "os.makedirs(\"../models\", exist_ok=True)\n",
    "\n",
    "# Save model\n",
    "joblib.dump(model, \"../models/logistic_model.pkl\")\n",
    "\n",
    "# Save TF-IDF vectorizer\n",
    "joblib.dump(vectorizer, \"../models/tfidf_vectorizer.pkl\")\n",
    "\n",
    "# Save label binarizer\n",
    "joblib.dump(mlb, \"../models/label_binarizer.pkl\")\n",
    "\n",
    "print(\"✅ Model, vectorizer, and label encoder saved successfully.\")\n"
   ]
  }
 ],
 "metadata": {
  "kernelspec": {
   "display_name": "env",
   "language": "python",
   "name": "python3"
  },
  "language_info": {
   "codemirror_mode": {
    "name": "ipython",
    "version": 3
   },
   "file_extension": ".py",
   "mimetype": "text/x-python",
   "name": "python",
   "nbconvert_exporter": "python",
   "pygments_lexer": "ipython3",
   "version": "3.13.3"
  }
 },
 "nbformat": 4,
 "nbformat_minor": 5
}
